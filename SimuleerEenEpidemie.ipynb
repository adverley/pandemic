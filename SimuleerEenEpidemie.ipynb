{
 "cells": [
  {
   "cell_type": "markdown",
   "metadata": {},
   "source": [
    "# Simuleer een epidemie\n",
    "\n",
    "In dit project zullen we bestuderen hoe ziektes zich kunnen verspreiden doorheen een (sociaal) netwerk. We zullen onderzoeken hoe de structuur van een netwerk een invloed kan hebben op hoe snel een ziekte doorgegeven wordt. Finaal zullen we ook verschillende strategiën bekijken om de verspreiding van een ziekte tegen te gaan."
   ]
  },
  {
   "cell_type": "code",
   "execution_count": null,
   "metadata": {},
   "outputs": [],
   "source": [
    "import numpy as np\n",
    "import matplotlib.pyplot as plt\n",
    "%matplotlib inline"
   ]
  },
  {
   "cell_type": "markdown",
   "metadata": {},
   "source": [
    "## Het SIR-model\n",
    "\n",
    "Een van de eenvoudigste manieren om ziekteverspreiding in een gemeenschap te modelleren is aan de hand van het SIR-model. SIR staat voor *Susceptible* (vatbaar), *Infected* (geïnfecteerd) en *Resistant* (resistent of hersteld), de drie types individuen die in een gemeenschap voorkomen. Het SIR-model bestaat uit drie vergelijkingen die de veranderingen van het aantal individuen in een bepaalde groep beschrijven. De variabelen die de toestand beschrijven zijn:\n",
    "\n",
    "-  $S(t)$: het aantal vatbare individuen op tijdstip $t$;\n",
    "-  $I(t)$: het aantal geïnfecteerde individuen op tijdstip $t$;\n",
    "-  $R(t)$: het aantal resistente individuen op tijdstip $t$.\n",
    "\n",
    "In deze beschrijving maken we een eerste grote vereenvoudiging van de werkelijkheid. We nemen aan dat elk van deze variablen reëelwaardig zijn en dat het aantal individuen in elke groep continu kan variëren. In werkelijkheid is het aantal geïnfecteerden of vatbare individuen een natuurlijk getal, je bent immers besmet of je bent het niet. Modelleerders werken echter graag met continue variablen omdat ze dan de technieken van wiskundige analyse kunnen gebruiken.\n",
    "\n",
    "> **Oefening 1**: Onder welke omstandigheden gaat deze continue benadering ongeveer op? Denk je dat je dit model kan gebruiken om een gezin van vier personen te beschrijven?"
   ]
  },
  {
   "cell_type": "markdown",
   "metadata": {},
   "source": [
    "Deze drie variabelen worden aan elkaar gelinkt aan de hand van drie differentiaalvergelijkingen (die elk een verandering in de tijd beschrijven). Hierin nemen we aan dat de grootte van de populatie ongewijzigd blijft. We nemen dus aan dat, gedurende de tijdspanne die het model beschrijft, er niemand geboren wordt en ook niemand sterft. We zullen ons hier dus beperken tot de verspreiding van een relatief onschuldige ziekte zoals een verkoudheid. De drie vergelijkingen zijn als volgt:\n",
    "\n",
    "$$\n",
    "\\frac{\\text{d}S(t)}{\\text{d}t} = -\\beta \\, S(t) \\, I(t)\n",
    "$$\n",
    "\n",
    "$$\n",
    "\\frac{\\text{d}I(t)}{\\text{d}t} = \\beta \\, S(t) \\,I(t) - \\gamma \\, I(t)\n",
    "$$\n",
    "\n",
    "$$\n",
    "\\frac{\\text{d}R(t)}{\\text{d}t} = \\gamma \\, I(t)\n",
    "$$\n",
    "\n",
    "Elke vergelijking vertelt ons hoe het aantal mensen in elke groep wijzigt doorheen de tijd. Daaruit kunnen we ook berekenen hoeveel mensen zich op een bepaald moment bevinden in elke groep. De vergelijkingen zijn gekoppeld via de *overgangssnelheden*. Elke overgangssnelheid vertelt ons hoe waarschijnlijk het is om van de ene naar de andere groep over te gaan.\n",
    "\n",
    "De overgangssnelheid van vatbaar (S) naar geïnfecteerd (I) hangt af van het contact tussen een vatbare persoon en een geïnfecteerd persoon. We noemen deze contactsnelheid $\\beta$. De kans dat de ziekte overgedragen wordt tijdens een contact tussen een vatbare en een geïnfecteerde persoon is dus $\\beta \\, I$. Het aantal vatbare personen (S) vermindert dus met deze snelheid op elk tijdstip.\n",
    "\n",
    "De overgangssnelheid van geïnfecteerd (I) naar resistent (R) hangt alleen af van de snelheid van herstel, die we $\\gamma$ noemen. Het aantal geïnfecteerde personen vermindert dus met deze snelheid op elk tijdstip.\n",
    "\n",
    "> **Oefening 2**: Toon aan dat het totaal aantal individuen in de populatie $(S(t)+I(t)+R(t))$ constant zal blijven.\n"
   ]
  },
  {
   "cell_type": "markdown",
   "metadata": {},
   "source": [
    "Het SIR-model is moeilijk om exact te worden opgelost. Dit is het geval bij veel differentiaalvergelijkingen die optreden in de biologische wetenschappen. We moeten dus een *numerieke benadering* van de oplossing vinden. Dit betekent dat we een algoritme zullen gebruiken om een geschatte maar nauwkeurige oplossing te vinden. Er zijn verschillende mogelijkheiden om dit te doen. We zouden ons continue probleem kunnen vervangen door een discrete tegenhanger. Dit zou ons toelaten bepaalde numerieke methoden te gebruiken om een benaderende oplossing te krijgen. Anderzijds kunnen we een iteratieve methode gebruiken. Uitgaande van een initiële schatting, maken iteratieve methoden opeenvolgende benaderingen die stapsgewijs convergeren naar de exacte oplossing.\n",
    "\n",
    "Met behulp van computers is het gemakkelijk om op deze manier een numerieke oplossing voor het SIR-model te vinden. Vanuit deze oplossing kunnen we leren hoe de verschillende variabelen in de loop van de tijd veranderen. Om dit te doen, vertrekken we van een beginvoorwaarde: het is logisch om te beginnen met een populatie met nul resistente personen, een paar geïnfecteerde personen en de rest vatbaar. Vervolgens kunnen we onze numerieke oplossing gebruiken om het aantal mensen in elke groep op elke tijdstap te berekenen.\n",
    "\n",
    "Via scipy kunnen we eenvoudig dergelijke differentiaalvergelijkingen simuleren. Eerst moeten we de differentiaalvergelijking implementeren. Dit zijn de drie functies hierboven geven samengevat in een vector. "
   ]
  },
  {
   "cell_type": "code",
   "execution_count": null,
   "metadata": {},
   "outputs": [],
   "source": [
    "def SIR(t, y, beta, gamma):\n",
    "    S, I, R = y\n",
    "    return np.array([-beta * S * I,\n",
    "                    beta * S * I - gamma * I,\n",
    "                    gamma * I])"
   ]
  },
  {
   "cell_type": "markdown",
   "metadata": {},
   "source": [
    "Daarna kunnen we hem numeriek oplossen met de [solve_ivp](https://docs.scipy.org/doc/scipy/reference/generated/scipy.integrate.solve_ivp.html)-functie van scipy. We beschouwen een populatie met 1000 mensen, waarvan initieel één persoon geïnfecteerd is."
   ]
  },
  {
   "cell_type": "code",
   "execution_count": null,
   "metadata": {},
   "outputs": [],
   "source": [
    "from scipy.integrate import solve_ivp\n",
    "\n",
    "S0 = 999\n",
    "I0 = 1\n",
    "R0 = 0\n",
    "\n",
    "beta = 1e-3\n",
    "gamma = 1e-1\n",
    "\n",
    "\n",
    "oplossing = solve_ivp(SIR,  # functie met parameters\n",
    "                      [0, 100],  # tijdsinterval waarin we simuleren\n",
    "                      np.array([S0, I0, R0]),  # de initiele omstandigheden\n",
    "                      args = (beta, gamma))  # de parameters van het stelsel differentiaalvergelijkingen "
   ]
  },
  {
   "cell_type": "markdown",
   "metadata": {},
   "source": [
    "Deze oplossing kunnen we dan grafisch weergeven:"
   ]
  },
  {
   "cell_type": "code",
   "execution_count": null,
   "metadata": {},
   "outputs": [],
   "source": [
    "plt.stackplot(oplossing.t, oplossing.y[[1,0,2],:],\n",
    "              labels=[\"I\", \"S\", \"R\"],\n",
    "              colors=[\"red\", \"yellow\", \"green\"])\n",
    "plt.xlabel(\"Tijd\")\n",
    "plt.ylabel(\"Aantal personen\")\n",
    "plt.legend(loc=0)"
   ]
  },
  {
   "cell_type": "markdown",
   "metadata": {},
   "source": [
    "> **Oefening 3**: Simuleer een aantal situaties door de parameters aan te passen: Wat als initieel de helft van de populatie resistent was? Wat als 80% van de populatie resistent is?"
   ]
  },
  {
   "cell_type": "markdown",
   "metadata": {},
   "source": [
    "## Sociale netwerken\n",
    "\n",
    "Het standaard SIR-model maakt de onrealistische veronderstelling dat twee willekeurige individuen telkens dezelfde kans hebben om met elkaar in contact te komen en zo mogelijks een ziekte door te geven. In werkelijkheid gaat natuurlijk niet iedereen met dezelfde mensen om. We hebben allemaal mensen waar we meer mee omgaan (meer in contact mee komen) dan met anderen. Het geheel van wie met wie in contact staat wordt een *sociaal netwerk* genoemd (denk aan Facebook). Het lijkt evident dat de structuur van zo'n netwerk een sterke invloed zal hebben op de dynamiek van de ziekteverspreiding. In deze sectie zullen we bekijken hoe we een netwerk wiskundig kunnen beschrijven.\n",
    "\n",
    "\n",
    "### Een voorbeeld\n",
    "\n",
    "Hieronder zie je een voorbeeld van enkele netwerken. De punten vertegenwoordigen de leerlingen en worden *knopen* genoemd. De contacten tussen leerlingen worden weergegeven door lijnsegmenten tussen knopen, en worden *bogen* genoemd. We zeggen dat twee knopen met elkaar *verbonden* zijn als ze met een boog geconnecteerd worden. Hier gaan we ervan uit dat een knoop niet verbonden kan zijn met zichzelf. We gaan er dus van uit dat je niet met jezelf bevriend kan zijn. Verder is er maar maximaal één boog mogelijk tussen twee knopen.\n",
    "\n",
    "![Voorbeelden van gekleurde grafen die netwerken tussen kinderen van verschillende leeftijden voorstellen. De vierkantjes stellen jongens voor, de cirkels meisjes. ([bron](https://royalsocietypublishing.org/doi/full/10.1098/rspb.2010.1807))](.image/netwerkkinderen.jpg)\n",
    "\n",
    "Zo zie je voor het netwerk voor kinderen tussen 4 en 5 jaar een kliekje van meisjes, die bevriend zijn met twee vriendengroepjes van jongens. Er zijn ook twee jongens die enkel met elkaar bevriend zijn en zes kinderen zonder vrienden.\n",
    "\n",
    "Zoals je ziet wordt een netwerk of een graaf vaak voorgesteld in een figuur waar cirkels (of andere elementen) de knopen voorstellen die geconnecteerd zijn door lijnen, de bogen. Deze figuren zijn niet uniek: eenzelfde netwerk kan vaak op verschillende manieren voorgesteld worden. Soms hebben de knopen ook een kleur, bijvoorbeeld om geslacht te duiden in een sociaal netwerk. In dat geval spreekt men van een *gekleurde graaf*.\n",
    "\n",
    "> **Oefening 4**: Beschrijf het verschil tussen de sociale netwerken van de verschillende leeftijdsgroepen."
   ]
  },
  {
   "cell_type": "markdown",
   "metadata": {},
   "source": [
    "Een figuur is nuttig om te bekijken hoe het netwerk eruitziet. Om er berekeningen mee te doen zijn er echter andere voorstellingen nodig. Een graaf kan wiskundig voorgesteld worden in een matrix die een *bogenmatrix* (Engels: adjacency matrix) genoemd wordt. Als het aantal knopen in de graaf $n$ is, dan is de bogenmatrix een vierkante matrix met dimensies $n \\times n$. Het element $A_{ij} = 1$ als de knopen $i$ en $j$ verbonden zijn, en $A_{ij} = 0$ als ze niet verbonden zijn. De bogenmatrix linkt grafentheorie met matrixtheorie!\n",
    "\n",
    "Neem het onderstaande klein graafje als voorbeeld.\n",
    "\n",
    "![Graaf met vijf knopen.](.image/graph.png)\n",
    "\n",
    "Dit heeft als bogenmatrix\n",
    "\n",
    "$$\n",
    "A = \\begin{bmatrix}\n",
    "       0 & 1 & 0 & 1 & 0 \\\\\n",
    "       1 & 0 & 1 & 0 & 1 \\\\\n",
    "       0 & 1 & 0 & 1 & 1 \\\\\n",
    "       1 & 0 & 1 & 0 & 1 \\\\\n",
    "       0 & 1 & 1 & 1 & 0\n",
    "     \\end{bmatrix}\\,.\n",
    "$$\n",
    "\n",
    "In python kunnen we dit aan de hand van een Numpy array voorstellen."
   ]
  },
  {
   "cell_type": "code",
   "execution_count": null,
   "metadata": {},
   "outputs": [],
   "source": [
    "A = np.array([[0, 1, 0, 1, 0],  # A\n",
    "              [1, 0, 1, 0, 1],  # B\n",
    "              [0, 1, 0, 1, 1],  # C\n",
    "              [1, 0, 1, 0, 1],  # D\n",
    "              [0, 1, 1, 1, 0]]) # E"
   ]
  },
  {
   "cell_type": "markdown",
   "metadata": {},
   "source": [
    "Het sociaal netwerk dat we beschouwen wordt weergegeven in onderstaande figuur. De knopen, hier personen, zijn genummerd om ze makkelijk te kunnen identificeren. We houden geen rekening met geslacht of andere attributen. We zullen hier een ziekte-uitbraak op simuleren!\n",
    "\n",
    "![Een sociaal netwerk tussen vijftien personen.](.image/socialnetwerk.png)"
   ]
  },
  {
   "cell_type": "markdown",
   "metadata": {},
   "source": [
    "> **Oefening 5**: voltooi de bogenmatrix voor het sociale netwerk."
   ]
  },
  {
   "cell_type": "code",
   "execution_count": null,
   "metadata": {},
   "outputs": [],
   "source": [
    "A = np.array([[0, 0, 1, ...],\n",
    "              [0, 0, 1, ...],\n",
    "              ...])"
   ]
  },
  {
   "cell_type": "markdown",
   "metadata": {},
   "source": [
    "## Verspreiding van een ziekte doorheen een netwerk\n",
    "\n",
    "Laat ons nu kijken hoe we het SIR-ziekteverspreidingsmodel kunnen vertalen naar de taal van netwerken. Aan de hand van een algemeen netwerk zullen we een veel realistischer model opstellen. Geen continue benadering meer! Vreemd genoeg sluit dit model niet enkel dichter aan bij de werkelijkheid, maar is het ook veel eenvoudiger om te bevatten en te simuleren. We kunnen een exacte oplossing bekomen zonder zelfs maar afgeleiden of andere geavanceerde wiskundige technieken nodig te hebben!\n",
    "\n",
    "### Ziektedynamiek op een netwerk\n",
    "\n",
    "In plaats van het aantal $S$, $I$ en $R$ individuen doorheen de tijd bij te houden zoals bij het standaard SIR-model, zullen we voor elke knoop in het netwerk zijn of haar toestand bijhouden. Ook de tijd zal niet meer continu variëren maar zal nu in discrete stappen voorbij gaan: $t = 0, 1, 2, 3, \\ldots$. De toestand van knoop nummer $i$ op tijdstip $t$ wordt dus beschreven door $N_i^t\\in \\{S, I, R\\}$. Dit wil zeggen dat knoop $i$ op tijdstip $t$ de toestand $S$ (vatbaar), $I$ (geïnfecteerd) of $R$ (resistent) kan hebben. De verandering in toestanden voor de knopen beschrijven we aan de hand van enkele eenvoudige regels. Net zoals het oorspronkelijke SIR model twee parameters had, beta (de kans dat een geïnfecteerde persoon de ziekte doorgeeft) en gamma (de kans dat een zieke persoon resistent wordt) heeft, heeft het netwerk SIR model twee analoge parameters.\n"
   ]
  },
  {
   "cell_type": "markdown",
   "metadata": {},
   "source": [
    "#### Vatbare en geïnfecteerde mensen\n",
    "\n",
    "Laten we ons eerst beperken tot vatbare en geïnfecteerde individuen. We gaan ervan uit dat vatbare individuen geïnfecteerd kunnen worden, maar geïnfecteerde individuen niet meer kunnen genezen. Beschouw volgende regels:\n",
    "\n",
    "1. Indien een knoop op tijdstip $t$ in toestand $S$ zit, dan heeft elke **geïnfecteerde** buur een kans $p_\\text{inf}$ om de de ziekte door te geven. De knoop gaat naar toestand $I$ indien minstens één buur de ziekte kan doorgeven.\n",
    "2. Indien een knoop op tijdstip $t$ in toestand $I$ zit, dan gaat deze naar de toestand $R$ met een kans $p_\\text{res}$."
   ]
  },
  {
   "cell_type": "markdown",
   "metadata": {},
   "source": [
    "Dus, stel dat een knoop in toestand $S$ zit, en ze heeft $k$ buren die in toestand $I$ zitten. De kans dat geen enkele buur de ziekte doorgeeft is dan:\n",
    "\n",
    "$$\n",
    "(1-p_\\text{inf})^k\n",
    "$$\n",
    "\n",
    "en dus, de kans dat de ziekte wel doorgegeven wordt (en er dus een transitie van toestand $S$ naar $I$ plaatsvindt is\n",
    "\n",
    "$$\n",
    "1 - (1-p_\\text{inf})^k\\,.\n",
    "$$\n",
    "\n",
    "Bijvoorbeeld, de knoop in het blauw omlijnd in het onderstaand voorbeeld:\n",
    "\n",
    "![](.image/ziekteverspr.png)\n",
    "\n",
    "Stel dat $p_\\text{inf}=0.2$, wat is de kans dat één van de drie zieke buren de ziekte doorgeeft? Dit berekenen we met de volgende code:"
   ]
  },
  {
   "cell_type": "code",
   "execution_count": null,
   "metadata": {},
   "outputs": [],
   "source": [
    "p_inf = 0.2\n",
    "k = 3\n",
    "\n",
    "p_ziekte_doorgegeven = 1 - (1 - p_inf)**k\n",
    "\n",
    "print(\"kans om de ziekte te krijgen is\", p_ziekte_doorgegeven)"
   ]
  },
  {
   "cell_type": "markdown",
   "metadata": {},
   "source": [
    "We kunnen dit makkelijk simuleren met de Numpy, waar `np.random.rand()` een willekeurig getal uniform verdeeld tussen 0 en 1 genereert."
   ]
  },
  {
   "cell_type": "code",
   "execution_count": null,
   "metadata": {
    "scrolled": true
   },
   "outputs": [],
   "source": [
    "np.random.rand() < p_ziekte_doorgegeven"
   ]
  },
  {
   "cell_type": "markdown",
   "metadata": {},
   "source": [
    "> **Oefening 6**: Stel dat $p_\\text{inf}=1$ (iedereen die ziek is geeft direct de ziekte door aan al zijn of haar buren). Initiëel zijn enkel knopen 1 en 11 geïnfecteerd in het voorbeeld netwerk. Wie is allemaal geïnfecteerd in de volgende stap? En de stap daarna?"
   ]
  },
  {
   "cell_type": "markdown",
   "metadata": {},
   "source": [
    "We kunnen nu model eenvoudig zelf implementeren in python. Eerst zullen we een simpel sociaal netwerk genereren om dit model te illustreren. We genereren eerst een populatie van `n` personen. Om het visueel te houden worden deze voorgesteld als punten in het $x,y$-vlak."
   ]
  },
  {
   "cell_type": "code",
   "execution_count": null,
   "metadata": {},
   "outputs": [],
   "source": [
    "from scipy.spatial import distance_matrix\n",
    "\n",
    "def genereer_populatie(n):\n",
    "    # we genereren n punten, uniform in het xy-vlak\n",
    "    X = np.random.rand(n, 2)\n",
    "    # we berekenen alle paarsgewijze afstanden tussen\n",
    "    # de punten\n",
    "    D = distance_matrix(X, X)\n",
    "    return X, D"
   ]
  },
  {
   "cell_type": "code",
   "execution_count": null,
   "metadata": {},
   "outputs": [],
   "source": [
    "n = 200\n",
    "\n",
    "X, D = genereer_populatie(n)"
   ]
  },
  {
   "cell_type": "markdown",
   "metadata": {},
   "source": [
    "Op basis van de afstand tussen twee personen wordt ook de afstandsmatrix $D$ berekend. Als een simpel model om een verbindingsmatrix te bekomen, laat ons zeggen dat de kans dat $A_{ij}=1$ gegeven wordt door:\n",
    "\n",
    "$$\n",
    "P_{ij} = \\exp(-\\alpha D_{ij})\\,.\n",
    "$$\n",
    "\n",
    "Hier nemen we dat de kans op een verbinding tussen knoop $i$ en $j$ afneemt naarmate de afstand tussen de twee knopen toeneemt. $\\alpha$ is een parameter die dit verband regelt. Een grote waarde van $\\alpha$ zorgt dat twee ver uiteen gelegen knopen een heel kleine kans hebben om in verbiding te staan. Een kleine waarde van $\\alpha$ zorgt dat dit wel nog mogelijk is."
   ]
  },
  {
   "cell_type": "code",
   "execution_count": null,
   "metadata": {},
   "outputs": [],
   "source": [
    "xwaarden = np.linspace(0, 10, 100)\n",
    "plt.plot(xwaarden, np.exp(-0.1 * xwaarden), label=r\"$\\alpha=0.1$\")\n",
    "plt.plot(xwaarden, np.exp(-0.5 * xwaarden), label=r\"$\\alpha=0.5$\")\n",
    "plt.plot(xwaarden, np.exp(-1 * xwaarden), label=r\"$\\alpha=1$\")\n",
    "plt.plot(xwaarden, np.exp(-5 * xwaarden), label=r\"$\\alpha=5$\")\n",
    "plt.plot(xwaarden, np.exp(-10 * xwaarden), label=r\"$\\alpha=10$\")\n",
    "plt.xlabel(r\"Afstand $D_{ij}$\")\n",
    "plt.ylabel(r\"Kans op verbinding $A_{ij}$\")\n",
    "plt.legend(loc=0)"
   ]
  },
  {
   "cell_type": "markdown",
   "metadata": {},
   "source": [
    "> **Oefening 7**: Denk goed na over de betekenis van $\\alpha$. Wat als $\\alpha=0$ is? Wat als $\\alpha$ heel groot is?"
   ]
  },
  {
   "cell_type": "code",
   "execution_count": null,
   "metadata": {},
   "outputs": [],
   "source": [
    "def sample_verbindingsmatrix(D, alpha=1.0):\n",
    "    # populatiegrootte\n",
    "    n = D.shape[1]\n",
    "    # we maken een matrix aan met true/false waarden\n",
    "    # om de verbindingen voor te stellen\n",
    "    A = np.zeros((n, n), bool)\n",
    "    for i in range(n):\n",
    "        for j in range(i+1, n):\n",
    "            # kans op een verbinding\n",
    "            p = np.exp(- alpha * D[i,j])\n",
    "            # met een kans van p, maak een verbinding tussen i en j\n",
    "            if p > np.random.rand():\n",
    "                A[i,j] = True\n",
    "                A[j,i] = True\n",
    "    return A\n"
   ]
  },
  {
   "cell_type": "code",
   "execution_count": null,
   "metadata": {
    "scrolled": true
   },
   "outputs": [],
   "source": [
    "A = sample_verbindingsmatrix(D, alpha=10)\n",
    "plt.imshow(A)"
   ]
  },
  {
   "cell_type": "markdown",
   "metadata": {},
   "source": [
    "Laat ons het netwerk grafisch weergeven. Hiervoor schrijven we een nieuwe python functie."
   ]
  },
  {
   "cell_type": "code",
   "execution_count": null,
   "metadata": {},
   "outputs": [],
   "source": [
    "def plot_netwerk(X, A, ax, toestanden=None):\n",
    "    n = A.shape[1]\n",
    "    if toestanden is None:\n",
    "        # geen toestanden gegeven, alle noden zijn blauw\n",
    "        knoop_kleuren = \"blue\"\n",
    "    else:\n",
    "        kleur_map = {\"S\" : \"yellow\", \"I\" : \"red\", \"R\" : \"green\"}\n",
    "        knoop_kleuren = [kleur_map[toestand] for toestand in toestanden]\n",
    "    ax.set_axis_off()\n",
    "    # plot de knopen\n",
    "    ax.scatter(X[:,0], X[:,1], color=knoop_kleuren, zorder=1)\n",
    "    # teken de verbindingen\n",
    "    for i in range(n):\n",
    "        for j in range(i+1, n):\n",
    "            if A[i,j]:\n",
    "                ax.plot(X[[i,j],0], X[[i,j],1], alpha=0.8, color=\"grey\", zorder=0)\n",
    "    ax.scatter([], [], color=\"yellow\", label=\"S\")\n",
    "    ax.scatter([], [], color=\"red\", label=\"I\")\n",
    "    ax.scatter([], [], color=\"green\", label=\"R\")\n",
    "    ax.legend(loc=0)"
   ]
  },
  {
   "cell_type": "code",
   "execution_count": null,
   "metadata": {},
   "outputs": [],
   "source": [
    "fig, ax = plt.subplots()\n",
    "\n",
    "plot_netwerk(X, A, ax)"
   ]
  },
  {
   "cell_type": "markdown",
   "metadata": {},
   "source": [
    "Laat ons nu aan elk van de knopen een toestand toekennen. Initieel is iedereen in toestand $S$ behalve vijf willekeurige personen die geïnfecteerd zijn."
   ]
  },
  {
   "cell_type": "code",
   "execution_count": null,
   "metadata": {},
   "outputs": [],
   "source": [
    "n_inf = 5  # initieel aantal geïnfecteerden\n",
    "\n",
    "initiele_toestanden = [\"S\"] * n\n",
    "initiele_toestanden[0:n_inf] = [\"I\"] * n_inf  # maakt niet uit de welke"
   ]
  },
  {
   "cell_type": "code",
   "execution_count": null,
   "metadata": {},
   "outputs": [],
   "source": [
    "fig, ax = plt.subplots()\n",
    "\n",
    "plot_netwerk(X, A, ax, initiele_toestanden)"
   ]
  },
  {
   "cell_type": "markdown",
   "metadata": {},
   "source": [
    "We hebben dus een functie nodig die telkens van de toestand op tijdstip $t$ naar tijdstip $t+1$ gaat. Dit is een vrij ingewikkelde functie!"
   ]
  },
  {
   "cell_type": "code",
   "execution_count": null,
   "metadata": {},
   "outputs": [],
   "source": [
    "def update_toestand(toestanden, A, p_inf=1, p_res=0):\n",
    "    n = len(toestanden)\n",
    "    nieuwe_toestanden = []\n",
    "    for i, toestand in enumerate(toestanden):\n",
    "        if toestand == \"S\":  # persoon is vatbaar\n",
    "            # tel aantal geinfecteerden die die persoon kent\n",
    "            n_inf_kennissen = 0\n",
    "            for j in range(n):\n",
    "                if A[i,j] and toestanden[j] == \"I\":\n",
    "                    n_inf_kennissen += 1\n",
    "            # kans dat persoon i ziek wordt door een zieke kennis\n",
    "            p_ziekte = 1 - (1 - p_inf)**n_inf_kennissen\n",
    "            toestand = \"I\" if (p_ziekte > np.random.rand()) else \"S\"\n",
    "            nieuwe_toestanden.append(toestand)\n",
    "        elif toestand == \"I\":\n",
    "            # persoon die geinfecteerd wordt kan resistent worden\n",
    "            toestand = \"R\" if (p_res > np.random.rand()) else \"I\"\n",
    "            nieuwe_toestanden.append(toestand)\n",
    "        elif toestand == \"R\":\n",
    "            # resistente personen blijven resisten\n",
    "            nieuwe_toestanden.append(\"R\")\n",
    "        else:\n",
    "            raise NotImplementedError(\"Toestanden moeten `S`, `I` of `R` zijn.\")\n",
    "    return nieuwe_toestanden"
   ]
  },
  {
   "cell_type": "code",
   "execution_count": null,
   "metadata": {},
   "outputs": [],
   "source": [
    "p_inf = 0.1\n",
    "p_res = 0.01\n",
    "\n",
    "nieuwe_toestanden = update_toestand(initiele_toestanden, A, p_inf, p_res)\n",
    "\n",
    "print(\"aantal infecties op t=1:\", nieuwe_toestanden.count(\"I\"))"
   ]
  },
  {
   "cell_type": "code",
   "execution_count": null,
   "metadata": {
    "scrolled": true
   },
   "outputs": [],
   "source": [
    "fig, ax = plt.subplots()\n",
    "\n",
    "plot_netwerk(X, A, ax, nieuwe_toestanden)"
   ]
  },
  {
   "cell_type": "markdown",
   "metadata": {},
   "source": [
    "We kunnen dit herhalen voor een hele reeks tijdstappen aan de hand van een for-lus:"
   ]
  },
  {
   "cell_type": "code",
   "execution_count": null,
   "metadata": {},
   "outputs": [],
   "source": [
    "def simuleer_epidemie(init_toestanden, A, tijdstappen, p_inf=1, p_res=0):\n",
    "    # sla de toestanden op in een lijst van lijsten\n",
    "    toestanden_lijst = [init_toestanden]\n",
    "    toestanden = init_toestanden\n",
    "    for t in range(tijdstappen):\n",
    "        toestanden = update_toestand(toestanden, A, p_inf, p_res)\n",
    "        toestanden_lijst.append(toestanden)\n",
    "    return toestanden_lijst"
   ]
  },
  {
   "cell_type": "markdown",
   "metadata": {},
   "source": [
    "Laat ons dit eens doen voor 100 tijdstappen."
   ]
  },
  {
   "cell_type": "code",
   "execution_count": null,
   "metadata": {},
   "outputs": [],
   "source": [
    "simulatie = simuleer_epidemie(initiele_toestanden, A, 100, p_inf, p_res)"
   ]
  },
  {
   "cell_type": "markdown",
   "metadata": {},
   "source": [
    "Laat ons nu eens naar enkele snapshots doorheen de tijd kijken."
   ]
  },
  {
   "cell_type": "code",
   "execution_count": null,
   "metadata": {
    "scrolled": true
   },
   "outputs": [],
   "source": [
    "fig, axes = plt.subplots(nrows=3, ncols=2, figsize=(10, 14))\n",
    "\n",
    "for (ax, t) in zip(axes.ravel(), [0, 10, 20, 50, 70, 100]):\n",
    "    toestanden = simulatie[t]\n",
    "    plot_netwerk(X, A, ax, toestanden)\n",
    "    ax.set_title(\"tijdstip {}\\n {} geïnfecteerd, {} resistent\".format(\n",
    "                        t, toestanden.count(\"I\"), toestanden.count(\"R\")))\n",
    "    "
   ]
  },
  {
   "cell_type": "markdown",
   "metadata": {},
   "source": [
    "We kunnen de voortgang makkelijker opvolgen aan de hand van een grafiek. Laat ons eens kijken hoe de verhouding vatbaren/geïnfecteerden/resitenten wijzigt doorheen de tijd:"
   ]
  },
  {
   "cell_type": "code",
   "execution_count": null,
   "metadata": {},
   "outputs": [],
   "source": [
    "def plot_progressie(toestanden_lijst, ax):\n",
    "    tijdstappen = len(toestanden_lijst)\n",
    "    # tel het aantal personen voor elke toestand per tijdstap\n",
    "    S = [toestanden.count(\"S\") for toestanden in toestanden_lijst]\n",
    "    I = [toestanden.count(\"I\") for toestanden in toestanden_lijst]\n",
    "    R = [toestanden.count(\"R\") for toestanden in toestanden_lijst]\n",
    "    ax.stackplot(range(tijdstappen), I, S, R,\n",
    "                    labels=[\"I\", \"S\", \"R\"], colors=[\"red\", \"yellow\", \"green\"])\n",
    "    ax.legend(loc=0)\n",
    "    ax.set_xlabel(\"Tijd\")\n",
    "    ax.set_ylabel(\"Aantal personen\")\n"
   ]
  },
  {
   "cell_type": "code",
   "execution_count": null,
   "metadata": {},
   "outputs": [],
   "source": [
    "fig, ax = plt.subplots()\n",
    "\n",
    "plot_progressie(simulatie, ax)"
   ]
  },
  {
   "cell_type": "markdown",
   "metadata": {},
   "source": [
    "> **Oefening 8**: Indien er te snel te veel mensen ziek worden kan het gezondheidsapparaat overrompeld worden, met catastrofalse gevolgen! Om dit te vermijden wordt er het principe van *social distancing* toegepast: mensen moeten sociaal contact zo veel mogelijk vermijden. Dit zorgt er voor dat de ziekte trager wordt doorgegeven. Je kan social distancing simuleren door $\\alpha$ hoger te zetten, bv. op 25. Doe dit. Zie je waarom het resultaat *flatten-the-curve*-effect noemt?"
   ]
  },
  {
   "cell_type": "code",
   "execution_count": null,
   "metadata": {},
   "outputs": [],
   "source": []
  }
 ],
 "metadata": {
  "kernelspec": {
   "display_name": "Python 3",
   "language": "python",
   "name": "python3"
  },
  "language_info": {
   "codemirror_mode": {
    "name": "ipython",
    "version": 3
   },
   "file_extension": ".py",
   "mimetype": "text/x-python",
   "name": "python",
   "nbconvert_exporter": "python",
   "pygments_lexer": "ipython3",
   "version": "3.7.4"
  }
 },
 "nbformat": 4,
 "nbformat_minor": 2
}
